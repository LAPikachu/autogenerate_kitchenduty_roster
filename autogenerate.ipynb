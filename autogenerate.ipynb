{
 "cells": [
  {
   "cell_type": "code",
   "execution_count": 10,
   "id": "02e66916",
   "metadata": {},
   "outputs": [],
   "source": [
    "import os\n",
    "import datetime"
   ]
  },
  {
   "cell_type": "code",
   "execution_count": 11,
   "id": "a7ea24dd",
   "metadata": {},
   "outputs": [],
   "source": [
    "def find_monday_date(start_day=datetime.date.today()):\n",
    "    start_day = datetime.date.today()\n",
    "    #let's find next mondays date; weekday returns 0 for Mon, 1 for Tue, ... etc. \n",
    "    start_day = start_day + datetime.timedelta(days=(7 - start_day.weekday())) \n",
    "    return start_day  "
   ]
  },
  {
   "cell_type": "code",
   "execution_count": 12,
   "id": "e401800d",
   "metadata": {},
   "outputs": [],
   "source": [
    "def make_table(monday_first_week_date = find_monday_date(),\n",
    "               current_week = 1, max_weeks = 13):\n",
    "    with open(\"table.tex\", \"w\") as f:\n",
    "        f.write('\\\\begin{table} [htb]\\n\\\\centering\\n\\\\begin{tabular}{p{10cm}c r} \\\\\\\\\\n')\n",
    "        monday = monday_first_week_date\n",
    "        sunday = monday_first_week_date + datetime.timedelta(days=6)\n",
    "    #     f.write('\\\\hline\\n10 & 11\\\\\\\\')\n",
    "        while current_week <= max_weeks:\n",
    "\n",
    "            f.write('\\\\hline \\\\\\\\ \\n ')\n",
    "            f.write('{start} - {end}'.format(start=monday.strftime('%d/%m/%Y'), end=sunday.strftime('%d/%m/%Y')))\n",
    "            f.write('\\\\\\\\ \\n')\n",
    "            current_week += 1\n",
    "            monday = monday + datetime.timedelta(days=7)\n",
    "            sunday = sunday + datetime.timedelta(days=7)\n",
    "        f.write('\\\\bottomrule\\n')\n",
    "        f.write('\\n\\\\end{tabular}\\n\\\\end{table}\\n')"
   ]
  },
  {
   "cell_type": "code",
   "execution_count": 8,
   "id": "cdae25cb",
   "metadata": {},
   "outputs": [
    {
     "data": {
      "text/plain": [
       "1"
      ]
     },
     "execution_count": 8,
     "metadata": {},
     "output_type": "execute_result"
    }
   ],
   "source": [
    "os.system('pdflatex kitchen_duty_roster.tex')\n",
    "os.system('pdflatex Küchendienstplan.tex')"
   ]
  },
  {
   "cell_type": "code",
   "execution_count": 13,
   "id": "4aae7589",
   "metadata": {},
   "outputs": [],
   "source": [
    "def main():\n",
    "    find_monday_date()\n",
    "    make_table()\n",
    "    os.system('pdflatex kitchen_duty_roster.tex') \n",
    "if __name__=='__main__':\n",
    "    main()"
   ]
  },
  {
   "cell_type": "code",
   "execution_count": 7,
   "id": "1a106111",
   "metadata": {},
   "outputs": [
    {
     "data": {
      "text/plain": [
       "0"
      ]
     },
     "execution_count": 7,
     "metadata": {},
     "output_type": "execute_result"
    }
   ],
   "source": []
  },
  {
   "cell_type": "code",
   "execution_count": null,
   "id": "94f8252b-de82-42e1-aade-37de3003da55",
   "metadata": {},
   "outputs": [],
   "source": []
  }
 ],
 "metadata": {
  "kernelspec": {
   "display_name": "Python 3 (ipykernel)",
   "language": "python",
   "name": "python3"
  },
  "language_info": {
   "codemirror_mode": {
    "name": "ipython",
    "version": 3
   },
   "file_extension": ".py",
   "mimetype": "text/x-python",
   "name": "python",
   "nbconvert_exporter": "python",
   "pygments_lexer": "ipython3",
   "version": "3.11.5"
  }
 },
 "nbformat": 4,
 "nbformat_minor": 5
}
